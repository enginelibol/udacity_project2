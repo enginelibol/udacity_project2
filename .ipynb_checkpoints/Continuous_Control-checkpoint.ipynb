{
 "cells": [
  {
   "cell_type": "markdown",
   "metadata": {},
   "source": [
    "# Continuous Control\n",
    "\n",
    "---\n",
    "\n",
    "In this notebook, you will learn how to use the Unity ML-Agents environment for the second project of the [Deep Reinforcement Learning Nanodegree](https://www.udacity.com/course/deep-reinforcement-learning-nanodegree--nd893) program.\n",
    "\n",
    "### 1. Start the Environment\n",
    "\n",
    "We begin by importing the necessary packages.  If the code cell below returns an error, please revisit the project instructions to double-check that you have installed [Unity ML-Agents](https://github.com/Unity-Technologies/ml-agents/blob/master/docs/Installation.md) and [NumPy](http://www.numpy.org/)."
   ]
  },
  {
   "cell_type": "code",
   "execution_count": 1,
   "metadata": {},
   "outputs": [
    {
     "name": "stdout",
     "output_type": "stream",
     "text": [
      "\u001b[31mtensorflow 1.7.1 has requirement numpy>=1.13.3, but you'll have numpy 1.12.1 which is incompatible.\u001b[0m\r\n",
      "\u001b[31mipython 6.5.0 has requirement prompt-toolkit<2.0.0,>=1.0.15, but you'll have prompt-toolkit 2.0.10 which is incompatible.\u001b[0m\r\n"
     ]
    }
   ],
   "source": [
    "!pip -q install ./python"
   ]
  },
  {
   "cell_type": "code",
   "execution_count": null,
   "metadata": {},
   "outputs": [],
   "source": []
  },
  {
   "cell_type": "code",
   "execution_count": 2,
   "metadata": {},
   "outputs": [],
   "source": [
    "from unityagents import UnityEnvironment\n",
    "import numpy as np\n",
    "import random\n",
    "import torch\n",
    "import math\n",
    "import datetime\n",
    "import time\n",
    "from collections import deque\n",
    "import matplotlib.pyplot as plt\n",
    "from ddpg_agent import Agent\n",
    "%matplotlib inline"
   ]
  },
  {
   "cell_type": "code",
   "execution_count": null,
   "metadata": {},
   "outputs": [],
   "source": []
  },
  {
   "cell_type": "markdown",
   "metadata": {},
   "source": [
    "Next, we will start the environment!  **_Before running the code cell below_**, change the `file_name` parameter to match the location of the Unity environment that you downloaded.\n",
    "\n",
    "- **Mac**: `\"path/to/Reacher.app\"`\n",
    "- **Windows** (x86): `\"path/to/Reacher_Windows_x86/Reacher.exe\"`\n",
    "- **Windows** (x86_64): `\"path/to/Reacher_Windows_x86_64/Reacher.exe\"`\n",
    "- **Linux** (x86): `\"path/to/Reacher_Linux/Reacher.x86\"`\n",
    "- **Linux** (x86_64): `\"path/to/Reacher_Linux/Reacher.x86_64\"`\n",
    "- **Linux** (x86, headless): `\"path/to/Reacher_Linux_NoVis/Reacher.x86\"`\n",
    "- **Linux** (x86_64, headless): `\"path/to/Reacher_Linux_NoVis/Reacher.x86_64\"`\n",
    "\n",
    "For instance, if you are using a Mac, then you downloaded `Reacher.app`.  If this file is in the same folder as the notebook, then the line below should appear as follows:\n",
    "```\n",
    "env = UnityEnvironment(file_name=\"Reacher.app\")\n",
    "```"
   ]
  },
  {
   "cell_type": "markdown",
   "metadata": {},
   "source": [
    "Lets find the packages that could be required to run this norebook. The result of mine could be find in report.\n",
    "\n"
   ]
  },
  {
   "cell_type": "code",
   "execution_count": 1,
   "metadata": {},
   "outputs": [
    {
     "name": "stderr",
     "output_type": "stream",
     "text": [
      "C:\\Users\\26003800\\AppData\\Local\\Continuum\\anaconda3\\envs\\myenv\\lib\\site-packages\\tensorflow\\python\\framework\\dtypes.py:517: FutureWarning: Passing (type, 1) or '1type' as a synonym of type is deprecated; in a future version of numpy, it will be understood as (type, (1,)) / '(1,)type'.\n",
      "  _np_qint8 = np.dtype([(\"qint8\", np.int8, 1)])\n",
      "C:\\Users\\26003800\\AppData\\Local\\Continuum\\anaconda3\\envs\\myenv\\lib\\site-packages\\tensorflow\\python\\framework\\dtypes.py:518: FutureWarning: Passing (type, 1) or '1type' as a synonym of type is deprecated; in a future version of numpy, it will be understood as (type, (1,)) / '(1,)type'.\n",
      "  _np_quint8 = np.dtype([(\"quint8\", np.uint8, 1)])\n",
      "C:\\Users\\26003800\\AppData\\Local\\Continuum\\anaconda3\\envs\\myenv\\lib\\site-packages\\tensorflow\\python\\framework\\dtypes.py:519: FutureWarning: Passing (type, 1) or '1type' as a synonym of type is deprecated; in a future version of numpy, it will be understood as (type, (1,)) / '(1,)type'.\n",
      "  _np_qint16 = np.dtype([(\"qint16\", np.int16, 1)])\n",
      "C:\\Users\\26003800\\AppData\\Local\\Continuum\\anaconda3\\envs\\myenv\\lib\\site-packages\\tensorflow\\python\\framework\\dtypes.py:520: FutureWarning: Passing (type, 1) or '1type' as a synonym of type is deprecated; in a future version of numpy, it will be understood as (type, (1,)) / '(1,)type'.\n",
      "  _np_quint16 = np.dtype([(\"quint16\", np.uint16, 1)])\n",
      "C:\\Users\\26003800\\AppData\\Local\\Continuum\\anaconda3\\envs\\myenv\\lib\\site-packages\\tensorflow\\python\\framework\\dtypes.py:521: FutureWarning: Passing (type, 1) or '1type' as a synonym of type is deprecated; in a future version of numpy, it will be understood as (type, (1,)) / '(1,)type'.\n",
      "  _np_qint32 = np.dtype([(\"qint32\", np.int32, 1)])\n",
      "C:\\Users\\26003800\\AppData\\Local\\Continuum\\anaconda3\\envs\\myenv\\lib\\site-packages\\tensorflow\\python\\framework\\dtypes.py:526: FutureWarning: Passing (type, 1) or '1type' as a synonym of type is deprecated; in a future version of numpy, it will be understood as (type, (1,)) / '(1,)type'.\n",
      "  np_resource = np.dtype([(\"resource\", np.ubyte, 1)])\n"
     ]
    },
    {
     "data": {
      "application/json": {
       "Software versions": [
        {
         "module": "Python",
         "version": "3.6.9 64bit [MSC v.1915 64 bit (AMD64)]"
        },
        {
         "module": "IPython",
         "version": "7.10.1"
        },
        {
         "module": "OS",
         "version": "Windows 10 10.0.16299 SP0"
        },
        {
         "module": "numpy",
         "version": "1.17.4"
        },
        {
         "module": "unityagents",
         "version": "(bleach 3.1.0 (c:\\users\\26003800\\appdata\\local\\continuum\\anaconda3\\envs\\myenv\\lib\\site-packages), Requirement.parse('bleach==1.5.0'), {'tensorboard'})"
        },
        {
         "module": "torch",
         "version": "1.3.1"
        },
        {
         "module": "matplotlib",
         "version": "3.1.2"
        },
        {
         "module": "pandas",
         "version": "0.25.3"
        },
        {
         "module": "gym",
         "version": "0.15.4"
        },
        {
         "module": "tensorflow",
         "version": "1.7.1"
        }
       ]
      },
      "text/html": [
       "<table><tr><th>Software</th><th>Version</th></tr><tr><td>Python</td><td>3.6.9 64bit [MSC v.1915 64 bit (AMD64)]</td></tr><tr><td>IPython</td><td>7.10.1</td></tr><tr><td>OS</td><td>Windows 10 10.0.16299 SP0</td></tr><tr><td>numpy</td><td>1.17.4</td></tr><tr><td>unityagents</td><td>(bleach 3.1.0 (c:\\users\\26003800\\appdata\\local\\continuum\\anaconda3\\envs\\myenv\\lib\\site-packages), Requirement.parse('bleach==1.5.0'), {'tensorboard'})</td></tr><tr><td>torch</td><td>1.3.1</td></tr><tr><td>matplotlib</td><td>3.1.2</td></tr><tr><td>pandas</td><td>0.25.3</td></tr><tr><td>gym</td><td>0.15.4</td></tr><tr><td>tensorflow</td><td>1.7.1</td></tr><tr><td colspan='2'>Tue Dec 31 13:48:35 2019 Turkey Standard Time</td></tr></table>"
      ],
      "text/latex": [
       "\\begin{tabular}{|l|l|}\\hline\n",
       "{\\bf Software} & {\\bf Version} \\\\ \\hline\\hline\n",
       "Python & 3.6.9 64bit [MSC v.1915 64 bit (AMD64)] \\\\ \\hline\n",
       "IPython & 7.10.1 \\\\ \\hline\n",
       "OS & Windows 10 10.0.16299 SP0 \\\\ \\hline\n",
       "numpy & 1.17.4 \\\\ \\hline\n",
       "unityagents & (bleach 3.1.0 (c:\\letterbackslash{}users\\letterbackslash{}26003800\\letterbackslash{}appdata\\letterbackslash{}local\\letterbackslash{}continuum\\letterbackslash{}anaconda3\\letterbackslash{}envs\\letterbackslash{}myenv\\letterbackslash{}lib\\letterbackslash{}site-packages), Requirement.parse('bleach==1.5.0'), \\letteropenbrace{}'tensorboard'\\letterclosebrace{}) \\\\ \\hline\n",
       "torch & 1.3.1 \\\\ \\hline\n",
       "matplotlib & 3.1.2 \\\\ \\hline\n",
       "pandas & 0.25.3 \\\\ \\hline\n",
       "gym & 0.15.4 \\\\ \\hline\n",
       "tensorflow & 1.7.1 \\\\ \\hline\n",
       "\\hline \\multicolumn{2}{|l|}{Tue Dec 31 13:48:35 2019 Turkey Standard Time} \\\\ \\hline\n",
       "\\end{tabular}\n"
      ],
      "text/plain": [
       "Software versions\n",
       "Python 3.6.9 64bit [MSC v.1915 64 bit (AMD64)]\n",
       "IPython 7.10.1\n",
       "OS Windows 10 10.0.16299 SP0\n",
       "numpy 1.17.4\n",
       "unityagents (bleach 3.1.0 (c:\\users\\26003800\\appdata\\local\\continuum\\anaconda3\\envs\\myenv\\lib\\site-packages), Requirement.parse('bleach==1.5.0'), {'tensorboard'})\n",
       "torch 1.3.1\n",
       "matplotlib 3.1.2\n",
       "pandas 0.25.3\n",
       "gym 0.15.4\n",
       "tensorflow 1.7.1\n",
       "Tue Dec 31 13:48:35 2019 Turkey Standard Time"
      ]
     },
     "execution_count": 1,
     "metadata": {},
     "output_type": "execute_result"
    }
   ],
   "source": [
    "%load_ext version_information\n",
    "%version_information numpy, unityagents, torch, matplotlib, pandas, gym, tensorflow"
   ]
  },
  {
   "cell_type": "code",
   "execution_count": 3,
   "metadata": {},
   "outputs": [
    {
     "name": "stderr",
     "output_type": "stream",
     "text": [
      "INFO:unityagents:\n",
      "'Academy' started successfully!\n",
      "Unity Academy name: Academy\n",
      "        Number of Brains: 1\n",
      "        Number of External Brains : 1\n",
      "        Lesson number : 0\n",
      "        Reset Parameters :\n",
      "\t\tgoal_speed -> 1.0\n",
      "\t\tgoal_size -> 5.0\n",
      "Unity brain name: ReacherBrain\n",
      "        Number of Visual Observations (per agent): 0\n",
      "        Vector Observation space type: continuous\n",
      "        Vector Observation space size (per agent): 33\n",
      "        Number of stacked Vector Observation: 1\n",
      "        Vector Action space type: continuous\n",
      "        Vector Action space size (per agent): 4\n",
      "        Vector Action descriptions: , , , \n"
     ]
    }
   ],
   "source": [
    "env = UnityEnvironment(file_name='/data/Reacher_One_Linux_NoVis/Reacher_One_Linux_NoVis.x86_64')"
   ]
  },
  {
   "cell_type": "markdown",
   "metadata": {},
   "source": [
    "Environments contain **_brains_** which are responsible for deciding the actions of their associated agents. Here we check for the first brain available, and set it as the default brain we will be controlling from Python."
   ]
  },
  {
   "cell_type": "code",
   "execution_count": 4,
   "metadata": {},
   "outputs": [
    {
     "name": "stdout",
     "output_type": "stream",
     "text": [
      "ReacherBrain\n",
      "Unity brain name: ReacherBrain\n",
      "        Number of Visual Observations (per agent): 0\n",
      "        Vector Observation space type: continuous\n",
      "        Vector Observation space size (per agent): 33\n",
      "        Number of stacked Vector Observation: 1\n",
      "        Vector Action space type: continuous\n",
      "        Vector Action space size (per agent): 4\n",
      "        Vector Action descriptions: , , , \n"
     ]
    }
   ],
   "source": [
    "# get the default brain\n",
    "brain_name = env.brain_names[0]\n",
    "print (brain_name)\n",
    "brain = env.brains[brain_name]\n",
    "print (brain)"
   ]
  },
  {
   "cell_type": "markdown",
   "metadata": {},
   "source": [
    "### 2. Examine the State and Action Spaces\n",
    "\n",
    "In this environment, a double-jointed arm can move to target locations. A reward of `+0.1` is provided for each step that the agent's hand is in the goal location. Thus, the goal of your agent is to maintain its position at the target location for as many time steps as possible.\n",
    "\n",
    "The observation space consists of `33` variables corresponding to position, rotation, velocity, and angular velocities of the arm.  Each action is a vector with four numbers, corresponding to torque applicable to two joints.  Every entry in the action vector must be a number between `-1` and `1`.\n",
    "\n",
    "Run the code cell below to print some information about the environment."
   ]
  },
  {
   "cell_type": "code",
   "execution_count": 5,
   "metadata": {},
   "outputs": [
    {
     "name": "stdout",
     "output_type": "stream",
     "text": [
      "Number of agents: 1\n",
      "Size of each action: 4\n",
      "There are 1 agents. Each observes a state with length: 33\n",
      "The state for the first agent looks like: [  0.00000000e+00  -4.00000000e+00   0.00000000e+00   1.00000000e+00\n",
      "  -0.00000000e+00  -0.00000000e+00  -4.37113883e-08   0.00000000e+00\n",
      "   0.00000000e+00   0.00000000e+00   0.00000000e+00   0.00000000e+00\n",
      "   0.00000000e+00   0.00000000e+00  -1.00000000e+01   0.00000000e+00\n",
      "   1.00000000e+00  -0.00000000e+00  -0.00000000e+00  -4.37113883e-08\n",
      "   0.00000000e+00   0.00000000e+00   0.00000000e+00   0.00000000e+00\n",
      "   0.00000000e+00   0.00000000e+00   5.75471878e+00  -1.00000000e+00\n",
      "   5.55726671e+00   0.00000000e+00   1.00000000e+00   0.00000000e+00\n",
      "  -1.68164849e-01]\n"
     ]
    }
   ],
   "source": [
    "# reset the environment\n",
    "env_info = env.reset(train_mode=False)[brain_name]\n",
    "\n",
    "# number of agents\n",
    "num_agents = len(env_info.agents)\n",
    "print('Number of agents:', num_agents)\n",
    "\n",
    "# size of each action\n",
    "action_size = brain.vector_action_space_size\n",
    "print('Size of each action:', action_size)\n",
    "\n",
    "# examine the state space \n",
    "states = env_info.vector_observations\n",
    "state_size = states.shape[1]\n",
    "print('There are {} agents. Each observes a state with length: {}'.format(states.shape[0], state_size))\n",
    "print('The state for the first agent looks like:', states[0])"
   ]
  },
  {
   "cell_type": "markdown",
   "metadata": {},
   "source": [
    "### 3. Take Random Actions in the Environment\n",
    "\n",
    "In the next code cell, you will learn how to use the Python API to control the agent and receive feedback from the environment.\n",
    "\n",
    "Once this cell is executed, you will watch the agent's performance, if it selects an action at random with each time step.  A window should pop up that allows you to observe the agent, as it moves through the environment.  \n",
    "\n",
    "Of course, as part of the project, you'll have to change the code so that the agent is able to use its experience to gradually choose better actions when interacting with the environment!"
   ]
  },
  {
   "cell_type": "code",
   "execution_count": 6,
   "metadata": {},
   "outputs": [],
   "source": [
    "#env_info = env.reset(train_mode=False)[brain_name]     # reset the environment    \n",
    "#states = env_info.vector_observations                  # get the current state (for each agent)\n",
    "#scores = np.zeros(num_agents)                          # initialize the score (for each agent)\n",
    "#while True:\n",
    "#    actions = np.random.randn(num_agents, action_size) # select an action (for each agent)\n",
    "#    actions = np.clip(actions, -1, 1)                  # all actions between -1 and 1\n",
    "#    env_info = env.step(actions)[brain_name]           # send all actions to tne environment\n",
    "#    next_states = env_info.vector_observations         # get next state (for each agent)\n",
    "#    rewards = env_info.rewards                         # get reward (for each agent)\n",
    "#    dones = env_info.local_done                        # see if episode finished\n",
    "#    scores += env_info.rewards                         # update the score (for each agent)\n",
    "#    states = next_states                               # roll over states to next time step\n",
    "#    if np.any(dones):                                  # exit loop if episode finished\n",
    "#        break\n",
    "#print('Total score (averaged over agents) this episode: {}'.format(np.mean(scores)))"
   ]
  },
  {
   "cell_type": "markdown",
   "metadata": {},
   "source": [
    "When finished, you can close the environment."
   ]
  },
  {
   "cell_type": "code",
   "execution_count": 7,
   "metadata": {},
   "outputs": [],
   "source": [
    "#env.close()"
   ]
  },
  {
   "cell_type": "markdown",
   "metadata": {},
   "source": [
    "### 4. It's Your Turn!\n",
    "\n",
    "Now it's your turn to train your own agent to solve the environment!  When training the environment, set `train_mode=True`, so that the line for resetting the environment looks like the following:\n",
    "```python\n",
    "env_info = env.reset(train_mode=True)[brain_name]\n",
    "```"
   ]
  },
  {
   "cell_type": "code",
   "execution_count": 8,
   "metadata": {},
   "outputs": [],
   "source": [
    "agent = Agent(state_size=state_size, action_size=action_size, random_seed=42)\n",
    "target_score = 31"
   ]
  },
  {
   "cell_type": "code",
   "execution_count": 9,
   "metadata": {},
   "outputs": [],
   "source": [
    "def ddpg(n_episodes=1000, max_t=10000, print_every=10):\n",
    "    \"\"\"DDQN Algorithm.\n",
    "    \n",
    "    Params\n",
    "    ======\n",
    "        n_episodes (int): maximum number of training episodes\n",
    "        max_t (int): maximum number of timesteps per episode\n",
    "        print_every (int): frequency of printing information throughout iteration \"\"\"\n",
    "    start_time = time.time()            #just grabbing the start time\n",
    "    scores = []\n",
    "    scores_deque = deque(maxlen=print_every)\n",
    "    \n",
    "    for i_episode in range(1, n_episodes+1):\n",
    "        env_info = env.reset(train_mode=True)[brain_name]\n",
    "        agent.reset()\n",
    "        state = env_info.vector_observations[0]            # get the current state\n",
    "        score = 0\n",
    "        \n",
    "        for t in range(max_t):\n",
    "            action = agent.act(state)          # select an action\n",
    "       \n",
    "            env_info = env.step(action)[brain_name]        # send the action to the environment\n",
    "            next_state = env_info.vector_observations[0]   # get the next state\n",
    "            reward = env_info.rewards[0]                   # get the reward\n",
    "            done = env_info.local_done[0]                  # see if episode has finished\n",
    "            agent.step(state, action, reward, next_state, done) # take step with agent (including learning)\n",
    "            score += reward                                # update the score\n",
    "            state = next_state                             # roll over the state to next time step\n",
    "            if done:                                       # exit loop if episode finished\n",
    "                break\n",
    "        \n",
    "        scores_deque.append(score)       # save most recent score\n",
    "        scores.append(score)             # save most recent score\n",
    "        elapsed_time = time.time() - start_time\n",
    "        print('\\rEpisode {}\\tScore: {:.2f}\\t Elapsed Time:{}sec'.format(i_episode, score,round(elapsed_time)), end=\"\")\n",
    "        \n",
    "        if i_episode % print_every == 0:\n",
    "            print('\\n\\rEpisode {}\\tAverage Score: {:.2f}'.format(i_episode, np.mean(scores_deque)))\n",
    "            torch.save(agent.actor_local.state_dict(), 'checkpoint_actor31.pth')\n",
    "            torch.save(agent.critic_local.state_dict(), 'checkpoint_critic31.pth')\n",
    "            elapsed_time = time.time() - start_time        \n",
    "        if np.mean(scores_deque)>=target_score:\n",
    "            print('\\nEnvironment solved in {:d} episodes!\\tAverage Score: {:.2f}'.format(i_episode, np.mean(scores_deque)))\n",
    "            torch.save(agent.actor_local.state_dict(), 'checkpoint_actor31.pth')\n",
    "            torch.save(agent.critic_local.state_dict(), 'checkpoint_critic31.pth')\n",
    "            elapsed_time = time.time() - start_time\n",
    "            print(\"\\nEnviroment is solved in {} sec\",round(elapsed_time))\n",
    "            break\n",
    "    return scores"
   ]
  },
  {
   "cell_type": "code",
   "execution_count": 10,
   "metadata": {},
   "outputs": [
    {
     "name": "stdout",
     "output_type": "stream",
     "text": [
      "Episode 10\tScore: 0.46\t Elapsed Time:159sec\n",
      "Episode 10\tAverage Score: 0.85\n",
      "Episode 20\tScore: 1.98\t Elapsed Time:321sec\n",
      "Episode 20\tAverage Score: 1.19\n",
      "Episode 30\tScore: 1.74\t Elapsed Time:484sec\n",
      "Episode 30\tAverage Score: 2.22\n",
      "Episode 40\tScore: 2.06\t Elapsed Time:648sec\n",
      "Episode 40\tAverage Score: 2.96\n",
      "Episode 50\tScore: 3.19\t Elapsed Time:812sec\n",
      "Episode 50\tAverage Score: 2.81\n",
      "Episode 60\tScore: 5.35\t Elapsed Time:979sec\n",
      "Episode 60\tAverage Score: 4.12\n",
      "Episode 70\tScore: 4.00\t Elapsed Time:1149sec\n",
      "Episode 70\tAverage Score: 4.47\n",
      "Episode 80\tScore: 2.32\t Elapsed Time:1320sec\n",
      "Episode 80\tAverage Score: 3.28\n",
      "Episode 90\tScore: 6.35\t Elapsed Time:1488sec\n",
      "Episode 90\tAverage Score: 4.36\n",
      "Episode 100\tScore: 7.18\t Elapsed Time:1654sec\n",
      "Episode 100\tAverage Score: 6.89\n",
      "Episode 110\tScore: 8.65\t Elapsed Time:1819secc\n",
      "Episode 110\tAverage Score: 6.48\n",
      "Episode 120\tScore: 8.08\t Elapsed Time:1985secc\n",
      "Episode 120\tAverage Score: 7.47\n",
      "Episode 130\tScore: 5.80\t Elapsed Time:2156secc\n",
      "Episode 130\tAverage Score: 9.21\n",
      "Episode 140\tScore: 8.99\t Elapsed Time:2328sec\n",
      "Episode 140\tAverage Score: 8.14\n",
      "Episode 150\tScore: 10.58\t Elapsed Time:2500sec\n",
      "Episode 150\tAverage Score: 10.74\n",
      "Episode 160\tScore: 7.96\t Elapsed Time:2676secc\n",
      "Episode 160\tAverage Score: 12.52\n",
      "Episode 170\tScore: 21.29\t Elapsed Time:2855sec\n",
      "Episode 170\tAverage Score: 17.98\n",
      "Episode 180\tScore: 7.09\t Elapsed Time:3035secc\n",
      "Episode 180\tAverage Score: 15.45\n",
      "Episode 190\tScore: 22.70\t Elapsed Time:3208sec\n",
      "Episode 190\tAverage Score: 18.46\n",
      "Episode 200\tScore: 30.64\t Elapsed Time:3382sec\n",
      "Episode 200\tAverage Score: 24.85\n",
      "Episode 210\tScore: 10.69\t Elapsed Time:3554sec\n",
      "Episode 210\tAverage Score: 18.04\n",
      "Episode 220\tScore: 19.35\t Elapsed Time:3723sec\n",
      "Episode 220\tAverage Score: 20.53\n",
      "Episode 230\tScore: 16.95\t Elapsed Time:3891sec\n",
      "Episode 230\tAverage Score: 22.69\n",
      "Episode 240\tScore: 26.41\t Elapsed Time:4060sec\n",
      "Episode 240\tAverage Score: 23.05\n",
      "Episode 250\tScore: 33.26\t Elapsed Time:4230sec\n",
      "Episode 250\tAverage Score: 29.04\n",
      "Episode 260\tScore: 32.55\t Elapsed Time:4399sec\n",
      "Episode 260\tAverage Score: 27.96\n",
      "Episode 270\tScore: 16.24\t Elapsed Time:4570sec\n",
      "Episode 270\tAverage Score: 26.40\n",
      "Episode 280\tScore: 29.90\t Elapsed Time:4739sec\n",
      "Episode 280\tAverage Score: 24.09\n",
      "Episode 288\tScore: 34.54\t Elapsed Time:4876sec\n",
      "Environment solved in 288 episodes!\tAverage Score: 31.54\n",
      "\n",
      "Enviroment is solved in {} sec 4876\n"
     ]
    }
   ],
   "source": [
    "scores = ddpg(n_episodes = 500)"
   ]
  },
  {
   "cell_type": "code",
   "execution_count": 11,
   "metadata": {},
   "outputs": [
    {
     "data": {
      "text/plain": [
       "<matplotlib.figure.Figure at 0x7f0d6f97c550>"
      ]
     },
     "metadata": {},
     "output_type": "display_data"
    },
    {
     "data": {
      "image/png": "[encoded data removed]",
      "text/plain": [
       "<matplotlib.figure.Figure at 0x7f0d6f97c518>"
      ]
     },
     "metadata": {
      "needs_background": "light"
     },
     "output_type": "display_data"
    }
   ],
   "source": [
    "# plot the scores\n",
    "fig = plt.figure()\n",
    "fig, ax = plt.subplots(figsize=(10, 5))\n",
    "plt.plot(np.arange(len(scores)), scores)\n",
    "plt.ylabel('Score')\n",
    "plt.title('Score vs #Episode Graph')\n",
    "plt.xlabel('#Episode')\n",
    "plt.savefig(\"score31\")\n",
    "plt.show()"
   ]
  },
  {
   "cell_type": "code",
   "execution_count": 14,
   "metadata": {},
   "outputs": [
    {
     "name": "stdout",
     "output_type": "stream",
     "text": [
      "Episode 1\tAverage Score: 32.88\n",
      "Episode 1\tScore: 32.88\n",
      "Episode 2\tAverage Score: 30.85\n",
      "Episode 2\tScore: 28.83\n",
      "Episode 3\tAverage Score: 33.29\n",
      "Episode 3\tScore: 38.17\n"
     ]
    }
   ],
   "source": [
    "agent_trained = Agent(state_size=state_size, action_size=action_size, random_seed=42)\n",
    "agent_trained.actor_local.load_state_dict(torch.load('checkpoint_actor31.pth'))\n",
    "agent_trained.actor_target.load_state_dict(torch.load('checkpoint_actor31.pth'))\n",
    "agent_trained.critic_local.load_state_dict(torch.load('checkpoint_critic31.pth'))\n",
    "agent_trained.critic_target.load_state_dict(torch.load('checkpoint_critic31.pth'))\n",
    "\n",
    "number_of_episodes=3\n",
    "scores_trained = []\n",
    "scores_trained_window = []\n",
    "\n",
    "for i_episode in range(1,number_of_episodes+1):\n",
    "    env_info = env.reset(train_mode=True)[brain_name] # reset the environment\n",
    "    state = env_info.vector_observations           # get the current state\n",
    "    scores_trained = 0                                          # initialize the score\n",
    "    while True:\n",
    "        action = agent_trained.act(state)             # select an action\n",
    "        env_info = env.step(action)[brain_name]        # send the action to the environment\n",
    "        next_state = env_info.vector_observations     # get the next state\n",
    "        reward = env_info.rewards[0]                   # get the reward\n",
    "        done = env_info.local_done[0]                  # see if episode has finished\n",
    "        scores_trained += reward                             # update the score\n",
    "        state = next_state                             # roll over the state to next time step\n",
    "        if done:                                       # exit loop if episode finished\n",
    "            scores_trained_window.append(scores_trained)\n",
    "            print('\\rEpisode {}\\tAverage Score: {:.2f}'.format(i_episode, np.mean(scores_trained_window)))\n",
    "            break\n",
    "    print('\\rEpisode {}\\tScore: {:.2f}'.format(i_episode, np.mean(scores_trained)))"
   ]
  },
  {
   "cell_type": "code",
   "execution_count": null,
   "metadata": {},
   "outputs": [],
   "source": []
  }
 ],
 "metadata": {
  "kernelspec": {
   "display_name": "Python [conda env:myenv] *",
   "language": "python",
   "name": "conda-env-myenv-py"
  },
  "language_info": {
   "codemirror_mode": {
    "name": "ipython",
    "version": 3
   },
   "file_extension": ".py",
   "mimetype": "text/x-python",
   "name": "python",
   "nbconvert_exporter": "python",
   "pygments_lexer": "ipython3",
   "version": "3.6.9"
  }
 },
 "nbformat": 4,
 "nbformat_minor": 2
}
